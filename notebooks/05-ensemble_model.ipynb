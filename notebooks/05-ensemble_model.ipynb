{
 "cells": [
  {
   "cell_type": "code",
   "execution_count": 221,
   "metadata": {},
   "outputs": [],
   "source": [
    "### Core Packages\n",
    "import pandas as pd\n",
    "import numpy as np\n",
    "\n",
    "### Visualization Packages\n",
    "import matplotlib.pyplot as plt\n",
    "\n",
    "### Machine Learning Packages\n",
    "from sklearn.model_selection import train_test_split, KFold\n",
    "from sklearn.preprocessing import MinMaxScaler\n",
    "from sklearn.feature_selection import RFECV\n",
    "from sklearn.ensemble import RandomForestClassifier\n",
    "from sklearn.ensemble import ExtraTreesClassifier\n",
    "from sklearn.neural_network import MLPClassifier\n",
    "from sklearn.neighbors import KNeighborsClassifier\n",
    "from sklearn.svm import SVC\n",
    "from sklearn.ensemble import AdaBoostClassifier\n",
    "from sklearn.tree import DecisionTreeClassifier\n",
    "from sklearn.model_selection import RepeatedStratifiedKFold\n",
    "from sklearn.gaussian_process import GaussianProcessClassifier\n",
    "from sklearn.gaussian_process.kernels import RBF\n",
    "from sklearn.ensemble import StackingClassifier\n",
    "from sklearn.ensemble import VotingClassifier\n",
    "\n",
    "from sklearn.metrics import accuracy_score\n",
    "\n",
    "### Setting env\n",
    "import os, sys\n",
    "\n",
    "folder = os.getcwd()\n",
    "if(not(folder.endswith('tcc-machine-learning'))):\n",
    "        os.chdir('..')\n",
    "folder = os.getcwd()\n",
    "\n",
    "### Functions\n",
    "from dags import config\n",
    "from dags.utils import generate_label\n",
    "\n",
    "### Others\n",
    "import warnings"
   ]
  },
  {
   "cell_type": "code",
   "execution_count": 2,
   "metadata": {},
   "outputs": [],
   "source": [
    "def Average(lst):\n",
    "    return sum(lst) / len(lst)"
   ]
  },
  {
   "cell_type": "code",
   "execution_count": 3,
   "metadata": {},
   "outputs": [],
   "source": [
    "ticker = 'petr4.sa'\n",
    "df_ticker = pd.read_csv(f'data/processed/{ticker}_processed.csv', encoding='utf8', delimiter=',')\n",
    "df_ticker['date'] = pd.to_datetime(df_ticker['date'])"
   ]
  },
  {
   "cell_type": "code",
   "execution_count": 4,
   "metadata": {},
   "outputs": [],
   "source": [
    "days = 3\n",
    "df_ticker_target = df_ticker.loc[df_ticker['date'] >= '2015-01-01']\n",
    "df_train = generate_label(days, df_ticker_target)"
   ]
  },
  {
   "cell_type": "code",
   "execution_count": 5,
   "metadata": {},
   "outputs": [],
   "source": [
    "df_train = df_train.set_index('date')\n",
    "\n",
    "transfor = 'normal'\n",
    "dir_func = np.log if transfor == 'log' else lambda x:x\n",
    "inf_func = np.exp if transfor == 'log' else lambda x:x\n",
    "\n",
    "cols_to_transform = [col for col in df_train.columns if not 'target' in col]\n",
    "df_train[cols_to_transform] = dir_func(df_train[cols_to_transform])\n",
    "\n",
    "\n",
    "X = df_train.drop(columns = 'target')\n",
    "y = df_train['target']\n",
    "feature_names = X.columns\n",
    "\n",
    "st_feat = MinMaxScaler()\n",
    "X = X.sort_index(axis = 1)\n",
    "X = st_feat.fit_transform(X)\n",
    "\n",
    "X_train, X_test, y_train, y_test = train_test_split(X, y, stratify=y)"
   ]
  },
  {
   "cell_type": "code",
   "execution_count": 6,
   "metadata": {},
   "outputs": [],
   "source": [
    "### Feature Selection\n",
    "extra_tree_forest = ExtraTreesClassifier(n_estimators = 400,\n",
    "                                         criterion ='entropy',\n",
    "                                         bootstrap=True,\n",
    "                                         oob_score=True,\n",
    "                                         min_samples_leaf=2,\n",
    "                                         n_jobs=4)\n",
    "  \n",
    "extra_tree_forest.fit(X, y)\n",
    "  \n",
    "rfe = RFECV(extra_tree_forest, cv=5, scoring=\"neg_mean_squared_error\")\n",
    "rfe.fit(X_train,y_train)\n",
    "selected_features = list(np.array(feature_names)[rfe.get_support()])\n",
    "df_selected = df_train[selected_features + ['target']]\n"
   ]
  },
  {
   "cell_type": "code",
   "execution_count": 204,
   "metadata": {},
   "outputs": [],
   "source": [
    "names = [\n",
    "    \"Nearest Neighbors\",\n",
    "    \"RBF SVM\",\n",
    "    \"Gaussian Process\",\n",
    "    \"Random Forest\",\n",
    "    \"Extra Trees\",\n",
    "    \"Neural Net\",\n",
    "    \"AdaBoost\",\n",
    "]\n",
    "\n",
    "classifiers = [\n",
    "    KNeighborsClassifier(n_neighbors = 5, weights = \"distance\", p = 1),\n",
    "    SVC(kernel= \"rbf\", gamma = 3.5, C = 1000),\n",
    "    GaussianProcessClassifier(1*RBF(2.0)),\n",
    "    RandomForestClassifier(n_estimators=400, min_samples_leaf=2, oob_score=True, bootstrap=True, n_jobs=4),\n",
    "    ExtraTreesClassifier(n_estimators = 400, criterion ='entropy', min_samples_leaf=2, n_jobs=4),\n",
    "    MLPClassifier(max_iter = 80000, activation = 'tanh', solver = 'lbfgs', alpha = 0.0001, learning_rate = 'constant'),\n",
    "    AdaBoostClassifier(n_estimators = 1000, base_estimator = DecisionTreeClassifier(max_depth=9, min_samples_leaf = 2))\n",
    "]"
   ]
  },
  {
   "cell_type": "code",
   "execution_count": 211,
   "metadata": {},
   "outputs": [
    {
     "data": {
      "text/plain": [
       "[0.6094736842105263]"
      ]
     },
     "execution_count": 211,
     "metadata": {},
     "output_type": "execute_result"
    }
   ],
   "source": [
    "X = df_selected.drop(columns = 'target')\n",
    "y = df_selected['target']\n",
    "feature_names = X.columns\n",
    "\n",
    "st_feat = MinMaxScaler()\n",
    "X = X.sort_index(axis = 1)\n",
    "X = st_feat.fit_transform(X)\n",
    "\n",
    "X_train, X_test, y_train, y_test = train_test_split(X, y, stratify=y)\n",
    "\n",
    "acc_list = []\n",
    "\n",
    "kf = KFold(n_splits=10, shuffle=True, random_state=42)\n",
    "\n",
    "for alg in classifiers:\n",
    "    \n",
    "    alg_accuracy = []\n",
    "    \n",
    "    for train_index, test_index in kf.split(X):\n",
    "        X_train, X_test, y_train, y_test = X[train_index], X[test_index], y[train_index], y[test_index]\n",
    "        \n",
    "        alg.fit(X_train, y_train)\n",
    "        \n",
    "        acc = accuracy_score(y_test, alg.predict(X_test))\n",
    "    \n",
    "        alg_accuracy.append(acc)\n",
    "    \n",
    "    mean_acc = Average(alg_accuracy)\n",
    "    acc_list.append(mean_acc)\n",
    "\n",
    "acc_list"
   ]
  },
  {
   "cell_type": "code",
   "execution_count": 215,
   "metadata": {},
   "outputs": [
    {
     "data": {
      "text/plain": [
       "[0.5768421052631579]"
      ]
     },
     "execution_count": 215,
     "metadata": {},
     "output_type": "execute_result"
    }
   ],
   "source": [
    "classifiers = [\n",
    "    MLPClassifier(max_iter = 10000, activation = 'tanh', solver = 'lbfgs', alpha = 0.0001, learning_rate = 'constant')\n",
    "]\n",
    "\n",
    "X = df_selected.drop(columns = 'target')\n",
    "y = df_selected['target']\n",
    "feature_names = X.columns\n",
    "\n",
    "st_feat = MinMaxScaler()\n",
    "X = X.sort_index(axis = 1)\n",
    "X = st_feat.fit_transform(X)\n",
    "\n",
    "X_train, X_test, y_train, y_test = train_test_split(X, y, stratify=y)\n",
    "\n",
    "acc_list = []\n",
    "\n",
    "kf = KFold(n_splits=10, shuffle=True, random_state=42)\n",
    "\n",
    "for alg in classifiers:\n",
    "    \n",
    "    alg.fit(X_train, y_train)\n",
    "    \n",
    "    acc = accuracy_score(y_test, alg.predict(X_test))\n",
    "\n",
    "    acc_list.append(acc)\n",
    "\n",
    "acc_list"
   ]
  },
  {
   "cell_type": "code",
   "execution_count": 220,
   "metadata": {},
   "outputs": [
    {
     "data": {
      "text/plain": [
       "0.6863157894736842"
      ]
     },
     "execution_count": 220,
     "metadata": {},
     "output_type": "execute_result"
    }
   ],
   "source": [
    "classifiers = [\n",
    "    (\"KNC\", KNeighborsClassifier(n_neighbors = 5, weights = \"distance\", p = 1)),\n",
    "    (\"SVC\", SVC(kernel= \"rbf\", gamma = 3.5, C = 1000)),\n",
    "    (\"GC\", GaussianProcessClassifier(1*RBF(2.0))),\n",
    "    (\"RF\", RandomForestClassifier(n_estimators=400, min_samples_leaf=2, oob_score=True, bootstrap=True, n_jobs=4)),\n",
    "    (\"MLP\", MLPClassifier(max_iter = 8000, activation = 'tanh', solver = 'lbfgs', alpha = 0.0001, learning_rate = 'constant')),\n",
    "    (\"ADA\", AdaBoostClassifier(n_estimators = 1000, base_estimator = DecisionTreeClassifier(max_depth=9, min_samples_leaf = 2)))\n",
    "]\n",
    "\n",
    "X = df_selected.drop(columns = 'target')\n",
    "y = df_selected['target']\n",
    "feature_names = X.columns\n",
    "\n",
    "st_feat = MinMaxScaler()\n",
    "X = X.sort_index(axis = 1)\n",
    "X = st_feat.fit_transform(X)\n",
    "\n",
    "X_train, X_test, y_train, y_test = train_test_split(X, y, stratify=y)\n",
    "\n",
    "clf = StackingClassifier(estimators=classifiers, final_estimator = ExtraTreesClassifier(n_estimators = 400, criterion ='entropy', min_samples_leaf=2, n_jobs=4))\n",
    "\n",
    "clf.fit(X_train, y_train).score(X_test, y_test)"
   ]
  },
  {
   "cell_type": "code",
   "execution_count": 257,
   "metadata": {},
   "outputs": [
    {
     "data": {
      "text/plain": [
       "0.9242105263157895"
      ]
     },
     "execution_count": 257,
     "metadata": {},
     "output_type": "execute_result"
    }
   ],
   "source": [
    "accuracy_score(y_test, clf.predict(X_test))"
   ]
  },
  {
   "cell_type": "code",
   "execution_count": 223,
   "metadata": {},
   "outputs": [],
   "source": [
    "classifiers = [\n",
    "    (\"KNC\", KNeighborsClassifier(n_neighbors = 5, weights = \"distance\", p = 1)),\n",
    "    (\"SVC\", SVC(kernel= \"rbf\", gamma = 3.5, C = 1000)),\n",
    "    (\"GC\", GaussianProcessClassifier(1*RBF(2.0))),\n",
    "    (\"EXTRA\", ExtraTreesClassifier(n_estimators = 400, criterion ='entropy', min_samples_leaf=2, n_jobs=4)),\n",
    "    (\"RF\", RandomForestClassifier(n_estimators=400, min_samples_leaf=2, oob_score=True, bootstrap=True, n_jobs=4)),\n",
    "    (\"MLP\", MLPClassifier(max_iter = 8000, activation = 'tanh', solver = 'lbfgs', alpha = 0.0001, learning_rate = 'constant')),\n",
    "    (\"ADA\", AdaBoostClassifier(n_estimators = 1000, base_estimator = DecisionTreeClassifier(max_depth=9, min_samples_leaf = 2)))\n",
    "]\n",
    "\n",
    "X = df_selected.drop(columns = 'target')\n",
    "y = df_selected['target']\n",
    "feature_names = X.columns\n",
    "\n",
    "st_feat = MinMaxScaler()\n",
    "X = X.sort_index(axis = 1)\n",
    "X = st_feat.fit_transform(X)\n",
    "\n",
    "X_train, X_test, y_train, y_test = train_test_split(X, y, stratify=y)\n",
    "\n",
    "eclf1 = VotingClassifier(estimators = classifiers, voting='hard')\n",
    "eclf1 = eclf1.fit(X, y)\n",
    "hard = accuracy_score(y_test, eclf1.predict(X_test))"
   ]
  },
  {
   "cell_type": "code",
   "execution_count": 254,
   "metadata": {},
   "outputs": [
    {
     "data": {
      "text/plain": [
       "1.0"
      ]
     },
     "execution_count": 254,
     "metadata": {},
     "output_type": "execute_result"
    }
   ],
   "source": [
    "hard"
   ]
  },
  {
   "cell_type": "code",
   "execution_count": 251,
   "metadata": {},
   "outputs": [],
   "source": [
    "\n",
    "eclf3 = VotingClassifier(estimators = classifiers, voting='hard', weights=[1, 2, 1, 3, 3, 2, 1],  flatten_transform=True)\n",
    "eclf3 = eclf3.fit(X, y)\n",
    "weighted2 = accuracy_score(y_test, eclf3.predict(X_test))"
   ]
  },
  {
   "cell_type": "code",
   "execution_count": 253,
   "metadata": {},
   "outputs": [
    {
     "data": {
      "text/plain": [
       "1.0"
      ]
     },
     "execution_count": 253,
     "metadata": {},
     "output_type": "execute_result"
    }
   ],
   "source": [
    "weighted2"
   ]
  },
  {
   "cell_type": "code",
   "execution_count": 263,
   "metadata": {},
   "outputs": [],
   "source": [
    "classifiers = [\n",
    "    (\"KNC\", KNeighborsClassifier(n_neighbors = 5, weights = \"distance\", p = 1)),\n",
    "    (\"GC\", GaussianProcessClassifier(1*RBF(2.0))),\n",
    "    (\"EXTRA\", ExtraTreesClassifier(n_estimators = 400, criterion ='entropy', min_samples_leaf=2, n_jobs=4)),\n",
    "    (\"RF\", RandomForestClassifier(n_estimators=400, min_samples_leaf=2, oob_score=True, bootstrap=True, n_jobs=4)),\n",
    "    (\"MLP\", MLPClassifier(max_iter = 8000, activation = 'tanh', solver = 'lbfgs', alpha = 0.0001, learning_rate = 'constant')),\n",
    "    (\"ADA\", AdaBoostClassifier(n_estimators = 1000, base_estimator = DecisionTreeClassifier(max_depth=9, min_samples_leaf = 2)))\n",
    "]\n",
    "\n",
    "X = df_selected.drop(columns = 'target')\n",
    "y = df_selected['target']\n",
    "feature_names = X.columns\n",
    "\n",
    "st_feat = MinMaxScaler()\n",
    "X = X.sort_index(axis = 1)\n",
    "X = st_feat.fit_transform(X)\n",
    "\n",
    "X_train, X_test, y_train, y_test = train_test_split(X, y, stratify=y)\n",
    "\n",
    "eclf2 = VotingClassifier(estimators = classifiers, voting='soft')\n",
    "eclf2 = eclf2.fit(X, y)\n",
    "soft = accuracy_score(y_test, eclf2.predict(X_test))"
   ]
  },
  {
   "cell_type": "code",
   "execution_count": 265,
   "metadata": {},
   "outputs": [
    {
     "data": {
      "text/plain": [
       "1.0"
      ]
     },
     "execution_count": 265,
     "metadata": {},
     "output_type": "execute_result"
    }
   ],
   "source": [
    "soft"
   ]
  },
  {
   "cell_type": "code",
   "execution_count": 267,
   "metadata": {},
   "outputs": [],
   "source": [
    "eclf4 = VotingClassifier(estimators = classifiers, voting='hard', weights=[1, 2, 1, 3, 1, 1],  flatten_transform=True)\n",
    "eclf4 = eclf4.fit(X, y)\n",
    "weighted = accuracy_score(y_test, eclf4.predict(X_test))"
   ]
  },
  {
   "cell_type": "code",
   "execution_count": null,
   "metadata": {},
   "outputs": [],
   "source": []
  },
  {
   "cell_type": "code",
   "execution_count": null,
   "metadata": {},
   "outputs": [],
   "source": []
  },
  {
   "cell_type": "code",
   "execution_count": null,
   "metadata": {},
   "outputs": [],
   "source": [
    "weighted2"
   ]
  },
  {
   "cell_type": "code",
   "execution_count": null,
   "metadata": {},
   "outputs": [],
   "source": [
    "print(hard)\n",
    "print(soft)\n",
    "print(weighted)"
   ]
  }
 ],
 "metadata": {
  "kernelspec": {
   "display_name": "Python 3.9.7",
   "language": "python",
   "name": "python3"
  },
  "language_info": {
   "codemirror_mode": {
    "name": "ipython",
    "version": 3
   },
   "file_extension": ".py",
   "mimetype": "text/x-python",
   "name": "python",
   "nbconvert_exporter": "python",
   "pygments_lexer": "ipython3",
   "version": "3.9.7"
  },
  "orig_nbformat": 4,
  "vscode": {
   "interpreter": {
    "hash": "599cece8842e6c1d97d182baa7f05812114be06ab240db449e2045f3a1c361b6"
   }
  }
 },
 "nbformat": 4,
 "nbformat_minor": 2
}
