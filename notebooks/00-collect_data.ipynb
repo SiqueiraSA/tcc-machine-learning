{
 "cells": [
  {
   "cell_type": "code",
   "execution_count": 1,
   "metadata": {},
   "outputs": [],
   "source": [
    "### Setting env\n",
    "import os, sys\n",
    "\n",
    "folder = os.getcwd()\n",
    "if(not(folder.endswith('tcc-machine-learning'))):\n",
    "        os.chdir('..')\n",
    "folder = os.getcwd()\n",
    "\n",
    "### Core Packages\n",
    "import pandas as pd\n",
    "import numpy as np\n",
    "\n",
    "### Visualization Packages\n",
    "import matplotlib.pyplot as plt\n",
    "import seaborn as sns\n",
    "import pprint\n",
    "import plotly.graph_objects as go\n",
    "\n",
    "### Financial Packages\n",
    "import yfinance as yf\n",
    "import pandas_datareader as pdr\n",
    "\n",
    "### Thecnical Analysis Packages\n",
    "import ta\n",
    "import pandas_ta as pdta\n",
    "import talib\n",
    "\n",
    "### Functions\n",
    "from dags import config\n",
    "from dags.utils import chose_path_to_work, collect_raw_data, plot_boxplots, save_image, formating_raw_columns\n",
    "\n",
    "### Others\n",
    "import warnings"
   ]
  },
  {
   "cell_type": "code",
   "execution_count": 5,
   "metadata": {},
   "outputs": [
    {
     "name": "stdout",
     "output_type": "stream",
     "text": [
      "[*********************100%***********************]  1 of 1 completed\n"
     ]
    }
   ],
   "source": [
    "ticker_collect = 'VALE3.SA'\n",
    "collect_raw_data(ticker_collect)"
   ]
  }
 ],
 "metadata": {
  "kernelspec": {
   "display_name": "Python 3.9.7",
   "language": "python",
   "name": "python3"
  },
  "language_info": {
   "codemirror_mode": {
    "name": "ipython",
    "version": 3
   },
   "file_extension": ".py",
   "mimetype": "text/x-python",
   "name": "python",
   "nbconvert_exporter": "python",
   "pygments_lexer": "ipython3",
   "version": "3.9.7 (default, Sep 16 2021, 16:59:28) [MSC v.1916 64 bit (AMD64)]"
  },
  "orig_nbformat": 4,
  "vscode": {
   "interpreter": {
    "hash": "599cece8842e6c1d97d182baa7f05812114be06ab240db449e2045f3a1c361b6"
   }
  }
 },
 "nbformat": 4,
 "nbformat_minor": 2
}
