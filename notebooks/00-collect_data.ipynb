{
 "cells": [
  {
   "cell_type": "code",
   "execution_count": null,
   "metadata": {},
   "outputs": [],
   "source": [
    "### Setting env\n",
    "import os, sys\n",
    "\n",
    "folder = os.getcwd()\n",
    "if(not(folder.endswith('tcc-machine-learning'))):\n",
    "        os.chdir('..')\n",
    "folder = os.getcwd()\n",
    "\n",
    "### Core Packages\n",
    "import pandas as pd\n",
    "import numpy as np\n",
    "\n",
    "### Visualization Packages\n",
    "import matplotlib.pyplot as plt\n",
    "import seaborn as sns\n",
    "import pprint\n",
    "import plotly.graph_objects as go\n",
    "\n",
    "### Financial Packages\n",
    "import yfinance as yf\n",
    "import pandas_datareader as pdr\n",
    "\n",
    "### Thecnical Analysis Packages\n",
    "import ta\n",
    "import pandas_ta as pdta\n",
    "import talib\n",
    "\n",
    "### Functions\n",
    "from dags import config\n",
    "from dags.utils import chose_path_to_work, collect_raw_data, plot_boxplots, save_image, formating_raw_columns\n",
    "\n",
    "### Others\n",
    "import warnings"
   ]
  },
  {
   "cell_type": "code",
   "execution_count": null,
   "metadata": {},
   "outputs": [],
   "source": [
    "ticker_collect = 'PETR4.SA'\n",
    "collect_raw_data(ticker_collect)"
   ]
  }
 ],
 "metadata": {
  "language_info": {
   "name": "python"
  },
  "orig_nbformat": 4
 },
 "nbformat": 4,
 "nbformat_minor": 2
}
